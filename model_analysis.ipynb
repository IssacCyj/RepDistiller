{
 "cells": [
  {
   "cell_type": "code",
   "execution_count": 23,
   "id": "cea1391d",
   "metadata": {},
   "outputs": [],
   "source": [
    "from dataset.cifar10 import get_cifar10_dataloaders, get_cifar10_dataloaders_sample\n",
    "import torch\n",
    "import torch.optim as optim\n",
    "import torch.nn as nn\n",
    "import torch.backends.cudnn as cudnn\n",
    "import numpy as np\n",
    "from models import model_dict\n",
    "\n",
    "from sklearn.metrics import confusion_matrix"
   ]
  },
  {
   "cell_type": "code",
   "execution_count": 13,
   "id": "8461b09a",
   "metadata": {},
   "outputs": [],
   "source": [
    "def get_teacher_name(model_path):\n",
    "    \"\"\"parse teacher name\"\"\"\n",
    "    segments = model_path.split('/')[-2].split('_')\n",
    "    if segments[0] != 'wrn':\n",
    "        if 'S' not in segments[0]:\n",
    "            return segments[0]\n",
    "        else:\n",
    "            return segments[0].split(':')[-1]\n",
    "    else:\n",
    "        return segments[0] + '_' + segments[1] + '_' + segments[2]\n",
    "\n",
    "\n",
    "def load_teacher(model_path, n_cls):\n",
    "    print('==> loading teacher model')\n",
    "    model_t = get_teacher_name(model_path)\n",
    "    model = model_dict[model_t](num_classes=n_cls)\n",
    "    model.load_state_dict(torch.load(model_path)['model'])\n",
    "    print('==> done')\n",
    "    return model"
   ]
  },
  {
   "cell_type": "code",
   "execution_count": 26,
   "id": "d6a25c53",
   "metadata": {},
   "outputs": [
    {
     "name": "stdout",
     "output_type": "stream",
     "text": [
      "==> loading teacher model\n",
      "==> done\n",
      "Files already downloaded and verified\n",
      "Files already downloaded and verified\n",
      "train cls num list:\n",
      "[5000, 2997, 1796, 1077, 645, 387, 232, 139, 83, 50]\n"
     ]
    }
   ],
   "source": [
    "path = r'save/student_model/S:resnet110_T:resnet110_cifar10_kd_r:0.1_a:0.9_b:0.0_maskhead9_Resample/resnet110_best.pth'\n",
    "n_cls = 10\n",
    "model = load_teacher(path, n_cls).cuda()\n",
    "train_loader, val_loader, n_data = get_cifar10_dataloaders(batch_size=64,\n",
    "                                                                num_workers=8,\n",
    "                                                                is_instance=True,\n",
    "                                                               train_rule=None)"
   ]
  },
  {
   "cell_type": "code",
   "execution_count": 27,
   "id": "d106269a",
   "metadata": {
    "scrolled": true
   },
   "outputs": [],
   "source": [
    "model.eval()\n",
    "\n",
    "all_preds = []\n",
    "all_targets = []\n",
    "with torch.no_grad():\n",
    "    for idx, (input, target) in enumerate(val_loader):\n",
    "\n",
    "        input = input.float()\n",
    "        if torch.cuda.is_available():\n",
    "            input = input.cuda()\n",
    "            target = target.cuda()\n",
    "\n",
    "        # compute output\n",
    "        output = model(input)\n",
    "        _, pred = torch.max(output, 1)\n",
    "        all_preds.extend(pred.cpu().numpy())\n",
    "        all_targets.extend(target.cpu().numpy())\n"
   ]
  },
  {
   "cell_type": "code",
   "execution_count": 29,
   "id": "3072a8c2",
   "metadata": {},
   "outputs": [],
   "source": [
    "cf = confusion_matrix(all_targets, all_preds).astype(float)\n",
    "cls_cnt = cf.sum(axis=1)\n",
    "cls_hit = np.diag(cf)\n",
    "cls_acc = cls_hit / cls_cnt\n",
    "\n",
    "out_cls_acc = 'Class Accuracy: %s' % (\n",
    "    (np.array2string(cls_acc, separator=',', formatter={'float_kind': lambda x: \"%.3f\" % x})))"
   ]
  },
  {
   "cell_type": "code",
   "execution_count": 30,
   "id": "035d2d05",
   "metadata": {},
   "outputs": [
    {
     "data": {
      "text/plain": [
       "'Class Accuracy: [0.817,0.474,0.825,0.608,0.748,0.494,0.542,0.465,0.253,0.976]'"
      ]
     },
     "execution_count": 30,
     "metadata": {},
     "output_type": "execute_result"
    }
   ],
   "source": [
    "out_cls_acc"
   ]
  },
  {
   "cell_type": "code",
   "execution_count": 31,
   "id": "9e2ebdd3",
   "metadata": {},
   "outputs": [
    {
     "data": {
      "text/plain": [
       "array([[817.,   0.,  13.,   1.,   3.,   0.,   0.,   0.,   1., 165.],\n",
       "       [  1., 474.,   0.,   0.,   0.,   0.,   0.,   0.,   0., 525.],\n",
       "       [ 30.,   0., 825.,  27.,  25.,   7.,   5.,   0.,   0.,  81.],\n",
       "       [ 12.,   0.,  70., 608.,  25.,  23.,   4.,   1.,   1., 256.],\n",
       "       [ 12.,   0.,  74.,  47., 748.,   7.,   2.,   3.,   0., 107.],\n",
       "       [  5.,   0.,  72., 213.,  22., 494.,   1.,   9.,   0., 184.],\n",
       "       [  6.,   0., 130., 109.,  18.,   3., 542.,   0.,   0., 192.],\n",
       "       [ 30.,   1.,  60.,  78.,  85.,  29.,   0., 465.,   0., 252.],\n",
       "       [167.,   1.,   7.,   4.,   1.,   0.,   1.,   0., 253., 566.],\n",
       "       [ 15.,   4.,   2.,   1.,   1.,   0.,   0.,   0.,   1., 976.]])"
      ]
     },
     "execution_count": 31,
     "metadata": {},
     "output_type": "execute_result"
    }
   ],
   "source": [
    "cf"
   ]
  },
  {
   "cell_type": "code",
   "execution_count": 32,
   "id": "c1585863",
   "metadata": {},
   "outputs": [
    {
     "data": {
      "text/plain": [
       "array([1000., 1000., 1000., 1000., 1000., 1000., 1000., 1000., 1000.,\n",
       "       1000.])"
      ]
     },
     "execution_count": 32,
     "metadata": {},
     "output_type": "execute_result"
    }
   ],
   "source": [
    "cf.sum(axis=1)"
   ]
  },
  {
   "cell_type": "code",
   "execution_count": null,
   "id": "81bac677",
   "metadata": {},
   "outputs": [],
   "source": []
  }
 ],
 "metadata": {
  "kernelspec": {
   "display_name": "gluoncv_p38",
   "language": "python",
   "name": "gluoncv_p38"
  },
  "language_info": {
   "codemirror_mode": {
    "name": "ipython",
    "version": 3
   },
   "file_extension": ".py",
   "mimetype": "text/x-python",
   "name": "python",
   "nbconvert_exporter": "python",
   "pygments_lexer": "ipython3",
   "version": "3.8.10"
  }
 },
 "nbformat": 4,
 "nbformat_minor": 5
}
